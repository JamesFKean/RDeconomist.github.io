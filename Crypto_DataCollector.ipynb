{
  "nbformat": 4,
  "nbformat_minor": 0,
  "metadata": {
    "colab": {
      "name": "Crypto_DataCollector.ipynb",
      "provenance": [],
      "collapsed_sections": [],
      "authorship_tag": "ABX9TyNis5m6t5MwI3ahtS8pycXs",
      "include_colab_link": true
    },
    "kernelspec": {
      "name": "python3",
      "display_name": "Python 3"
    },
    "language_info": {
      "name": "python"
    }
  },
  "cells": [
    {
      "cell_type": "markdown",
      "metadata": {
        "id": "view-in-github",
        "colab_type": "text"
      },
      "source": [
        "<a href=\"https://colab.research.google.com/github/RDeconomist/RDeconomist.github.io/blob/main/Crypto_DataCollector.ipynb\" target=\"_parent\"><img src=\"https://colab.research.google.com/assets/colab-badge.svg\" alt=\"Open In Colab\"/></a>"
      ]
    },
    {
      "cell_type": "markdown",
      "metadata": {
        "id": "TQX5R5PdspnG"
      },
      "source": [
        "Richard Davies\n",
        "\n",
        "Crypto collector\n",
        "\n",
        "Description:  Collecting Crypto API data\n"
      ]
    },
    {
      "cell_type": "code",
      "metadata": {
        "id": "jWOQ6ZhRsfmj"
      },
      "source": [
        "# /// Import tools that we will need:\n",
        "\n",
        "# // Opening web sites and web scraping: \n",
        "import requests\n",
        "\n",
        "# // OS. Sometimes need this for finding working directory:\n",
        "import os\n",
        "\n",
        "# // JSON. This helps us make JSON look prettier and easier to read\n",
        "import json\n",
        "\n",
        "# /// Files.  This is part of Collab - allows you to upload and download files\n",
        "from google.colab import files\n"
      ],
      "execution_count": 1,
      "outputs": []
    },
    {
      "cell_type": "code",
      "metadata": {
        "id": "yh9IQqqXtcVQ"
      },
      "source": [
        "# /// Enter a list of series that we want to collect:\n",
        "\n",
        "# // Set the base url:\n",
        "# \"https://rest.coinapi.io/v1/ohlcv/BTC/USD/history?period_id=8HRS&time_start=2021-08-01T00:00:00&limit=100&include_empty_items=false&apikey=FCB2BB27-5458-483B-88CE-926C357E0606\"\n",
        "\n",
        "url_base = \"https://rest.coinapi.io/v1/ohlcv/{}/USD/history?period_id=8HRS&time_start=2021-08-01T00:00:00&limit=100&include_empty_items=false&apikey=FCB2BB27-5458-483B-88CE-926C357E0606\"\n",
        "\n",
        "# // Pick the letters that we want to inject into this url:\n",
        "currency = ['BTC', 'ETH', 'DOGE', 'CRO', 'ADA', 'XRP']\n",
        "\n",
        "# // Begin a loop, dealing with series one by one:\n",
        "for i in currency:  \n",
        "  \n",
        "   # // Build the URL for this iteration of the loop, and check what we are getting:\n",
        "   URL = url_base.format(i)\n",
        "   print(URL)\n",
        "   \n",
        "   # // Request the html from the URL:\n",
        "   data = requests.get(URL).json()\n",
        "\n",
        "   # // Set the filename, and check what we are getting:\n",
        "   fileName = \"data_ohlcv_\"+str(i)+\".json\"\n",
        "   print(fileName)\n",
        "\n",
        "   # /// Save the file:\n",
        "   # /// In this case I am adding a filename based on the relevant ONS codes:\n",
        "   with open(fileName, 'w', encoding='utf-8') as f:\n",
        "     json.dump(data, f, ensure_ascii=False, indent=4)\n",
        "\n",
        "   # /// Download the file to local machine, helps with verificaiton of data.\n",
        "   #files.download('{}'.format(fileName))"
      ],
      "execution_count": null,
      "outputs": []
    },
    {
      "cell_type": "code",
      "metadata": {
        "id": "Nhjf_iyX6UMa"
      },
      "source": [
        "# /// Saving this to GitHub:\n",
        "! git init\n",
        "\n",
        "# //Setting up Git to link to the right account:\n",
        "! git config --global user.email “richard.davies.mobile@gmail.com”\n",
        "! git config --global user.email “RDeconomist”\n",
        "\n",
        "# // Add the files:\n",
        "! git add -A\n",
        "\n",
        "# ///Commit the files:\n",
        "! git commit -m \"Adding latest Crypto data\"\n",
        "\n",
        "# /// Set a personal access token (PAT):\n",
        "# /// To do this go here: https://github.com/settings/tokens/new\n",
        "\n",
        "# /// Pushing using personal access token\n",
        "! git push --set-upstream https://TOKEN@github.com/RDEconomist/RDeconomist.github.io.git master\n",
        "\n",
        "# /// This results in files being added to master repo.\n",
        "# /// In my case the file is here:\n",
        "# /// https://raw.githubusercontent.com/RDeconomist/RDeconomist.github.io/master/"
      ],
      "execution_count": null,
      "outputs": []
    }
  ]
}