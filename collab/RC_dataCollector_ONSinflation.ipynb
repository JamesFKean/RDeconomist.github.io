{
  "nbformat": 4,
  "nbformat_minor": 0,
  "metadata": {
    "colab": {
      "name": "DS3_APIDataCollector2.ipynb",
      "provenance": [],
      "authorship_tag": "ABX9TyOdzvZWhf/1OiIGTrGnRXKL",
      "include_colab_link": true
    },
    "kernelspec": {
      "name": "python3",
      "display_name": "Python 3"
    },
    "language_info": {
      "name": "python"
    }
  },
  "cells": [
    {
      "cell_type": "markdown",
      "metadata": {
        "id": "view-in-github",
        "colab_type": "text"
      },
      "source": [
        "<a href=\"https://colab.research.google.com/github/RDeconomist/RDeconomist.github.io/blob/main/RC_dataCollector_ONSinflation\" target=\"_parent\"><img src=\"https://colab.research.google.com/assets/colab-badge.svg\" alt=\"Open In Colab\"/></a>"
      ]
    },
    {
      "cell_type": "markdown",
      "metadata": {
        "id": "TQX5R5PdspnG"
      },
      "source": [
        "Richard Davies\n",
        "\n",
        "ONS data collector - inflation"
      ]
    },
    {
      "cell_type": "code",
      "metadata": {
        "id": "jWOQ6ZhRsfmj"
      },
      "source": [
        "# /// Import tools that we will need:\n",
        "\n",
        "# // Opening web sites and web scraping: \n",
        "import requests\n",
        "\n",
        "# // Import time - this can be used to pause Python\n",
        "import time\n",
        "\n",
        "# // JSON. This helps us make JSON look prettier and easier to read\n",
        "import json\n",
        "\n",
        "# /// Files.  This is part of Collab - allows you to upload and download files\n",
        "from google.colab import files\n"
      ],
      "execution_count": null,
      "outputs": []
    },
    {
      "cell_type": "code",
      "metadata": {
        "id": "yh9IQqqXtcVQ"
      },
      "source": [
        "# /// Enter a list of series that we want to collect:\n",
        "\n",
        "# // Set the base url:\n",
        "url_base = \"https://api.ons.gov.uk/timeseries/{}/dataset/mm23/data\"\n",
        "\n",
        "# // Pick the letters that we want to inject into this url:\n",
        "onsSeries = ['L55O', 'D7G8', 'D7G9', 'D7GA', 'D7NM', 'D7NN'] \n",
        "\n",
        "# // Begin a loop, dealing with series one by one:\n",
        "for i in onsSeries:  \n",
        "  \n",
        "   # // Build the URL for this iteration of the loop, and check what we are getting:\n",
        "   URL = url_base.format(i)\n",
        "   print(URL)\n",
        "   \n",
        "   # // Request the html from the URL:\n",
        "   data = requests.get(URL).json()\n",
        "\n",
        "   # // Set the filename, and check what we are getting:\n",
        "   fileName = \"data_MM23-\"+str(i)+\".json\"\n",
        "   print(fileName)\n",
        "\n",
        "   # /// Save the file:\n",
        "   # /// In this case I am adding a filename based on the relevant ONS codes:\n",
        "   with open(fileName, 'w', encoding='utf-8') as f:\n",
        "     json.dump(data, f, ensure_ascii=False, indent=4)\n",
        "\n",
        "   # /// Download the file to local machine, helps with verification of data.\n",
        "   # time.sleep(5)\n",
        "   files.download('{}'.format(fileName))\n",
        "\n",
        "\n",
        "\n"
      ],
      "execution_count": null,
      "outputs": []
    },
    {
      "cell_type": "code",
      "metadata": {
        "id": "fw2ob5ndjcOq"
      },
      "source": [
        "# // Pick the letters that we want to inject into this url:\n",
        "onsSeries = ['CDSI', 'L7LM', 'L7LN', 'L7LO', 'D7GD', 'D7HI', 'D7HJ']\n",
        "\n",
        "# // Begin a loop, dealing with series one by one:\n",
        "for i in onsSeries:  \n",
        "  \n",
        "   # // Build the URL for this iteration of the loop, and check what we are getting:\n",
        "   URL = url_base.format(i)\n",
        "   print(URL)\n",
        "   \n",
        "   # // Request the html from the URL:\n",
        "   data = requests.get(URL).json()\n",
        "\n",
        "   # // Set the filename, and check what we are getting:\n",
        "   fileName = \"data_MM23-\"+str(i)+\".json\"\n",
        "   print(fileName)\n",
        "\n",
        "   # /// Save the file:\n",
        "   # /// In this case I am adding a filename based on the relevant ONS codes:\n",
        "   with open(fileName, 'w', encoding='utf-8') as f:\n",
        "     json.dump(data, f, ensure_ascii=False, indent=4)\n",
        "\n",
        "   # /// Download the file to local machine, helps with verification of data.\n",
        "   # time.sleep(5)\n",
        "   files.download('{}'.format(fileName))"
      ],
      "execution_count": null,
      "outputs": []
    },
    {
      "cell_type": "code",
      "metadata": {
        "id": "33rJnMONgCRO",
        "colab": {
          "base_uri": "https://localhost:8080/",
          "height": 17
        },
        "outputId": "7105eb58-6a26-4828-8d40-8c5e099e43fd"
      },
      "source": [
        "# // ONS WEIGHTS 1 OF 2\n",
        "# // These series are the weights applied to prices\n",
        "# // Source dataset is here: https://www.ons.gov.uk/economy/inflationandpriceindices/datasets/consumerpriceindices\n",
        "# // Pick the letters that we want to inject into this url:\n",
        "onsSeries = ['L5CZ', 'L5D2', 'L5D3', 'L5D4', 'L5D5', 'L5D6']\n",
        "\n",
        "# // Begin a loop, dealing with series one by one:\n",
        "for i in onsSeries:  \n",
        "  \n",
        "   # // Build the URL for this iteration of the loop, and check what we are getting:\n",
        "   URL = url_base.format(i)\n",
        "   print(URL)\n",
        "   \n",
        "   # // Request the html from the URL:\n",
        "   data = requests.get(URL).json()\n",
        "\n",
        "   # // Set the filename, and check what we are getting:\n",
        "   fileName = \"data_MM23-\"+str(i)+\".json\"\n",
        "   print(fileName)\n",
        "\n",
        "   # /// Save the file:\n",
        "   # /// In this case I am adding a filename based on the relevant ONS codes:\n",
        "   with open(fileName, 'w', encoding='utf-8') as f:\n",
        "     json.dump(data, f, ensure_ascii=False, indent=4)\n",
        "\n",
        "   # /// Download the file to local machine, helps with verification of data.\n",
        "   # time.sleep(5)\n",
        "   files.download('{}'.format(fileName))"
      ],
      "execution_count": null,
      "outputs": [
        {
          "output_type": "display_data",
          "data": {
            "application/javascript": [
              "\n",
              "    async function download(id, filename, size) {\n",
              "      if (!google.colab.kernel.accessAllowed) {\n",
              "        return;\n",
              "      }\n",
              "      const div = document.createElement('div');\n",
              "      const label = document.createElement('label');\n",
              "      label.textContent = `Downloading \"${filename}\": `;\n",
              "      div.appendChild(label);\n",
              "      const progress = document.createElement('progress');\n",
              "      progress.max = size;\n",
              "      div.appendChild(progress);\n",
              "      document.body.appendChild(div);\n",
              "\n",
              "      const buffers = [];\n",
              "      let downloaded = 0;\n",
              "\n",
              "      const channel = await google.colab.kernel.comms.open(id);\n",
              "      // Send a message to notify the kernel that we're ready.\n",
              "      channel.send({})\n",
              "\n",
              "      for await (const message of channel.messages) {\n",
              "        // Send a message to notify the kernel that we're ready.\n",
              "        channel.send({})\n",
              "        if (message.buffers) {\n",
              "          for (const buffer of message.buffers) {\n",
              "            buffers.push(buffer);\n",
              "            downloaded += buffer.byteLength;\n",
              "            progress.value = downloaded;\n",
              "          }\n",
              "        }\n",
              "      }\n",
              "      const blob = new Blob(buffers, {type: 'application/binary'});\n",
              "      const a = document.createElement('a');\n",
              "      a.href = window.URL.createObjectURL(blob);\n",
              "      a.download = filename;\n",
              "      div.appendChild(a);\n",
              "      a.click();\n",
              "      div.remove();\n",
              "    }\n",
              "  "
            ],
            "text/plain": [
              "<IPython.core.display.Javascript object>"
            ]
          },
          "metadata": {}
        },
        {
          "output_type": "display_data",
          "data": {
            "application/javascript": [
              "download(\"download_fdd6e143-1f30-475f-8e34-748351813cdb\", \"data_MM23-D7HJ.json\", 176663)"
            ],
            "text/plain": [
              "<IPython.core.display.Javascript object>"
            ]
          },
          "metadata": {}
        }
      ]
    },
    {
      "cell_type": "code",
      "metadata": {
        "id": "yRUCgzE7R5Bq"
      },
      "source": [
        "# // ONS WEIGHTS 2 OF 2\n",
        "onsSeries = ['L5D7', 'L5D8', 'L5D9', 'L5DA', 'L5DB', 'L5DC']\n",
        "\n",
        "# // Begin a loop, dealing with series one by one:\n",
        "for i in onsSeries:  \n",
        "  \n",
        "   # // Build the URL for this iteration of the loop, and check what we are getting:\n",
        "   URL = url_base.format(i)\n",
        "   print(URL)\n",
        "   \n",
        "   # // Request the html from the URL:\n",
        "   data = requests.get(URL).json()\n",
        "\n",
        "   # // Set the filename, and check what we are getting:\n",
        "   fileName = \"data_MM23-\"+str(i)+\".json\"\n",
        "   print(fileName)\n",
        "\n",
        "   # /// Save the file:\n",
        "   # /// In this case I am adding a filename based on the relevant ONS codes:\n",
        "   with open(fileName, 'w', encoding='utf-8') as f:\n",
        "     json.dump(data, f, ensure_ascii=False, indent=4)\n",
        "\n",
        "   # /// Download the file to local machine, helps with verification of data.\n",
        "   # time.sleep(5)\n",
        "   files.download('{}'.format(fileName))"
      ],
      "execution_count": null,
      "outputs": []
    }
  ]
}
